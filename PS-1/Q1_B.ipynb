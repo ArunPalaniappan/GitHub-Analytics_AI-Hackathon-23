{
 "cells": [
  {
   "cell_type": "code",
   "execution_count": 69,
   "id": "034e8b63",
   "metadata": {},
   "outputs": [],
   "source": [
    "import numpy as np\n",
    "from numpy.linalg import inv\n",
    "import pandas as pd\n",
    "from tqdm import tqdm\n",
    "from sklearn.neural_network import MLPClassifier\n",
    "from sklearn.metrics import confusion_matrix\n",
    "from xgboost import XGBClassifier\n",
    "from lightgbm import LGBMClassifier\n",
    "import math\n",
    "import pickle\n",
    "\n",
    "from fitter import Fitter, get_common_distributions, get_distributions\n",
    "from sklearn.ensemble import VotingClassifier\n",
    "\n",
    "import seaborn as sns\n",
    "import matplotlib.pyplot as plt\n",
    "%matplotlib inline"
   ]
  },
  {
   "cell_type": "code",
   "execution_count": 2,
   "id": "db2abd97",
   "metadata": {},
   "outputs": [],
   "source": [
    "data = pd.read_csv('PS1B_train.csv')"
   ]
  },
  {
   "cell_type": "code",
   "execution_count": 3,
   "id": "a6501af9",
   "metadata": {
    "scrolled": false
   },
   "outputs": [
    {
     "data": {
      "text/html": [
       "<div>\n",
       "<style scoped>\n",
       "    .dataframe tbody tr th:only-of-type {\n",
       "        vertical-align: middle;\n",
       "    }\n",
       "\n",
       "    .dataframe tbody tr th {\n",
       "        vertical-align: top;\n",
       "    }\n",
       "\n",
       "    .dataframe thead th {\n",
       "        text-align: right;\n",
       "    }\n",
       "</style>\n",
       "<table border=\"1\" class=\"dataframe\">\n",
       "  <thead>\n",
       "    <tr style=\"text-align: right;\">\n",
       "      <th></th>\n",
       "      <th>C1</th>\n",
       "      <th>C2</th>\n",
       "      <th>C3</th>\n",
       "      <th>C4</th>\n",
       "      <th>C5</th>\n",
       "      <th>C6</th>\n",
       "      <th>C7</th>\n",
       "      <th>C8</th>\n",
       "      <th>Outcome</th>\n",
       "    </tr>\n",
       "  </thead>\n",
       "  <tbody>\n",
       "    <tr>\n",
       "      <th>0</th>\n",
       "      <td>5</td>\n",
       "      <td>187</td>\n",
       "      <td>76</td>\n",
       "      <td>27</td>\n",
       "      <td>207</td>\n",
       "      <td>43.6</td>\n",
       "      <td>1.034</td>\n",
       "      <td>53</td>\n",
       "      <td>1</td>\n",
       "    </tr>\n",
       "    <tr>\n",
       "      <th>1</th>\n",
       "      <td>3</td>\n",
       "      <td>129</td>\n",
       "      <td>64</td>\n",
       "      <td>29</td>\n",
       "      <td>115</td>\n",
       "      <td>26.4</td>\n",
       "      <td>0.219</td>\n",
       "      <td>28</td>\n",
       "      <td>1</td>\n",
       "    </tr>\n",
       "    <tr>\n",
       "      <th>2</th>\n",
       "      <td>0</td>\n",
       "      <td>131</td>\n",
       "      <td>0</td>\n",
       "      <td>0</td>\n",
       "      <td>0</td>\n",
       "      <td>43.2</td>\n",
       "      <td>0.270</td>\n",
       "      <td>26</td>\n",
       "      <td>1</td>\n",
       "    </tr>\n",
       "    <tr>\n",
       "      <th>3</th>\n",
       "      <td>10</td>\n",
       "      <td>115</td>\n",
       "      <td>0</td>\n",
       "      <td>0</td>\n",
       "      <td>0</td>\n",
       "      <td>0.0</td>\n",
       "      <td>0.261</td>\n",
       "      <td>30</td>\n",
       "      <td>1</td>\n",
       "    </tr>\n",
       "    <tr>\n",
       "      <th>4</th>\n",
       "      <td>0</td>\n",
       "      <td>107</td>\n",
       "      <td>60</td>\n",
       "      <td>25</td>\n",
       "      <td>0</td>\n",
       "      <td>26.4</td>\n",
       "      <td>0.133</td>\n",
       "      <td>23</td>\n",
       "      <td>0</td>\n",
       "    </tr>\n",
       "  </tbody>\n",
       "</table>\n",
       "</div>"
      ],
      "text/plain": [
       "   C1   C2  C3  C4   C5    C6     C7  C8  Outcome\n",
       "0   5  187  76  27  207  43.6  1.034  53        1\n",
       "1   3  129  64  29  115  26.4  0.219  28        1\n",
       "2   0  131   0   0    0  43.2  0.270  26        1\n",
       "3  10  115   0   0    0   0.0  0.261  30        1\n",
       "4   0  107  60  25    0  26.4  0.133  23        0"
      ]
     },
     "execution_count": 3,
     "metadata": {},
     "output_type": "execute_result"
    }
   ],
   "source": [
    "data.head()"
   ]
  },
  {
   "cell_type": "code",
   "execution_count": 4,
   "id": "1e28c726",
   "metadata": {},
   "outputs": [],
   "source": [
    "# for i in list(data):\n",
    "#     data.hist(column=[i],bins=300, figsize=(8,6))"
   ]
  },
  {
   "cell_type": "code",
   "execution_count": 5,
   "id": "f85ab5d2",
   "metadata": {
    "scrolled": true
   },
   "outputs": [],
   "source": [
    "#sns.pairplot(data)"
   ]
  },
  {
   "cell_type": "markdown",
   "id": "8ae074db",
   "metadata": {},
   "source": [
    "# New Approach"
   ]
  },
  {
   "cell_type": "code",
   "execution_count": 6,
   "id": "67820d49",
   "metadata": {},
   "outputs": [],
   "source": [
    "ndata = data.to_numpy()"
   ]
  },
  {
   "cell_type": "markdown",
   "id": "cec4e04a",
   "metadata": {},
   "source": [
    "# class separation & balancing"
   ]
  },
  {
   "cell_type": "code",
   "execution_count": 7,
   "id": "7b3527d7",
   "metadata": {},
   "outputs": [],
   "source": [
    "grouped = data.groupby('Outcome')"
   ]
  },
  {
   "cell_type": "code",
   "execution_count": 8,
   "id": "09b0be1d",
   "metadata": {},
   "outputs": [],
   "source": [
    "df_1 = grouped.get_group(1)\n",
    "df_0 = grouped.get_group(0)"
   ]
  },
  {
   "cell_type": "code",
   "execution_count": 9,
   "id": "33bd3e5a",
   "metadata": {},
   "outputs": [],
   "source": [
    "ndf_1 = df_1.to_numpy()\n",
    "ndf_0 = df_0.to_numpy()"
   ]
  },
  {
   "cell_type": "markdown",
   "id": "08cfc495",
   "metadata": {},
   "source": [
    "# model"
   ]
  },
  {
   "cell_type": "code",
   "execution_count": 10,
   "id": "9ac6ae08",
   "metadata": {},
   "outputs": [],
   "source": [
    "def datagen(ndata, multiplier):\n",
    "    l=[]\n",
    "\n",
    "    for i in range((multiplier-1)*ndata.shape[0]):\n",
    "        a = np.random.uniform(0,ndata.shape[0]-1,1)\n",
    "        a = int(round(a[0],0))\n",
    "        b = np.random.uniform(0,ndata.shape[0]-1,1)\n",
    "        b = int(round(b[0],0))\n",
    "\n",
    "        d = ndata[a] + np.random.uniform(0,1,1)*(ndata[b]-ndata[a])\n",
    "\n",
    "        l.append(d)\n",
    "    return np.array(l)"
   ]
  },
  {
   "cell_type": "code",
   "execution_count": 11,
   "id": "f639e556",
   "metadata": {},
   "outputs": [],
   "source": [
    "def balanced_gen(ndf_1,ndf_0,Total_size):\n",
    "    a1 = datagen(ndf_1, int(0.5*Total_size/ndf_1.shape[0]))\n",
    "    a0 = datagen(ndf_0, int(0.5*Total_size/ndf_0.shape[0]))\n",
    "    \n",
    "    #temp1 = np.append(ndf_1, a1, axis = 0)\n",
    "    #temp2 = np.append(ndf_0, a0, axis = 0)\n",
    "    up_data = np.append(a1, a0, axis = 0)\n",
    "    \n",
    "    up_df = pd.DataFrame(up_data)\n",
    "    up_df[8] = up_df[8].round(decimals = 0)\n",
    "    up_df = up_df.astype({8: int})\n",
    "    \n",
    "    return(up_df.sample(frac = 1))"
   ]
  },
  {
   "cell_type": "code",
   "execution_count": 12,
   "id": "24c1403a",
   "metadata": {},
   "outputs": [],
   "source": [
    "df_gen_temp = balanced_gen(ndf_1,ndf_0,5000)"
   ]
  },
  {
   "cell_type": "code",
   "execution_count": 13,
   "id": "ff7100ae",
   "metadata": {},
   "outputs": [
    {
     "data": {
      "text/html": [
       "<div>\n",
       "<style scoped>\n",
       "    .dataframe tbody tr th:only-of-type {\n",
       "        vertical-align: middle;\n",
       "    }\n",
       "\n",
       "    .dataframe tbody tr th {\n",
       "        vertical-align: top;\n",
       "    }\n",
       "\n",
       "    .dataframe thead th {\n",
       "        text-align: right;\n",
       "    }\n",
       "</style>\n",
       "<table border=\"1\" class=\"dataframe\">\n",
       "  <thead>\n",
       "    <tr style=\"text-align: right;\">\n",
       "      <th></th>\n",
       "      <th>0</th>\n",
       "      <th>1</th>\n",
       "      <th>2</th>\n",
       "      <th>3</th>\n",
       "      <th>4</th>\n",
       "      <th>5</th>\n",
       "      <th>6</th>\n",
       "      <th>7</th>\n",
       "      <th>8</th>\n",
       "    </tr>\n",
       "  </thead>\n",
       "  <tbody>\n",
       "    <tr>\n",
       "      <th>264</th>\n",
       "      <td>5.610661</td>\n",
       "      <td>135.476971</td>\n",
       "      <td>72.068656</td>\n",
       "      <td>34.423667</td>\n",
       "      <td>98.552872</td>\n",
       "      <td>33.945800</td>\n",
       "      <td>0.744716</td>\n",
       "      <td>27.915991</td>\n",
       "      <td>1</td>\n",
       "    </tr>\n",
       "    <tr>\n",
       "      <th>3074</th>\n",
       "      <td>7.405286</td>\n",
       "      <td>134.000882</td>\n",
       "      <td>89.513657</td>\n",
       "      <td>40.351542</td>\n",
       "      <td>8.511010</td>\n",
       "      <td>31.837886</td>\n",
       "      <td>0.398863</td>\n",
       "      <td>39.567401</td>\n",
       "      <td>0</td>\n",
       "    </tr>\n",
       "    <tr>\n",
       "      <th>922</th>\n",
       "      <td>3.967153</td>\n",
       "      <td>174.040156</td>\n",
       "      <td>73.094888</td>\n",
       "      <td>17.744529</td>\n",
       "      <td>161.313897</td>\n",
       "      <td>34.852556</td>\n",
       "      <td>0.379179</td>\n",
       "      <td>33.291973</td>\n",
       "      <td>1</td>\n",
       "    </tr>\n",
       "    <tr>\n",
       "      <th>4051</th>\n",
       "      <td>5.013859</td>\n",
       "      <td>112.837595</td>\n",
       "      <td>64.712864</td>\n",
       "      <td>23.754441</td>\n",
       "      <td>98.304899</td>\n",
       "      <td>28.290689</td>\n",
       "      <td>0.399243</td>\n",
       "      <td>28.712864</td>\n",
       "      <td>0</td>\n",
       "    </tr>\n",
       "    <tr>\n",
       "      <th>461</th>\n",
       "      <td>3.000000</td>\n",
       "      <td>177.473946</td>\n",
       "      <td>64.947892</td>\n",
       "      <td>12.446649</td>\n",
       "      <td>109.756814</td>\n",
       "      <td>31.857816</td>\n",
       "      <td>0.485308</td>\n",
       "      <td>32.960297</td>\n",
       "      <td>1</td>\n",
       "    </tr>\n",
       "    <tr>\n",
       "      <th>...</th>\n",
       "      <td>...</td>\n",
       "      <td>...</td>\n",
       "      <td>...</td>\n",
       "      <td>...</td>\n",
       "      <td>...</td>\n",
       "      <td>...</td>\n",
       "      <td>...</td>\n",
       "      <td>...</td>\n",
       "      <td>...</td>\n",
       "    </tr>\n",
       "    <tr>\n",
       "      <th>3054</th>\n",
       "      <td>2.363180</td>\n",
       "      <td>142.397918</td>\n",
       "      <td>61.452721</td>\n",
       "      <td>15.547279</td>\n",
       "      <td>306.760719</td>\n",
       "      <td>29.289541</td>\n",
       "      <td>0.466304</td>\n",
       "      <td>23.681590</td>\n",
       "      <td>0</td>\n",
       "    </tr>\n",
       "    <tr>\n",
       "      <th>1898</th>\n",
       "      <td>4.999076</td>\n",
       "      <td>112.003511</td>\n",
       "      <td>65.987803</td>\n",
       "      <td>0.000000</td>\n",
       "      <td>0.000000</td>\n",
       "      <td>37.800998</td>\n",
       "      <td>0.261002</td>\n",
       "      <td>40.997228</td>\n",
       "      <td>1</td>\n",
       "    </tr>\n",
       "    <tr>\n",
       "      <th>3511</th>\n",
       "      <td>1.000000</td>\n",
       "      <td>7.403395</td>\n",
       "      <td>74.411300</td>\n",
       "      <td>21.028249</td>\n",
       "      <td>21.817513</td>\n",
       "      <td>28.399209</td>\n",
       "      <td>0.314835</td>\n",
       "      <td>21.359887</td>\n",
       "      <td>0</td>\n",
       "    </tr>\n",
       "    <tr>\n",
       "      <th>2122</th>\n",
       "      <td>8.278573</td>\n",
       "      <td>111.158938</td>\n",
       "      <td>76.417859</td>\n",
       "      <td>39.278573</td>\n",
       "      <td>128.694704</td>\n",
       "      <td>28.686968</td>\n",
       "      <td>0.632200</td>\n",
       "      <td>32.880365</td>\n",
       "      <td>1</td>\n",
       "    </tr>\n",
       "    <tr>\n",
       "      <th>521</th>\n",
       "      <td>0.000000</td>\n",
       "      <td>174.074471</td>\n",
       "      <td>45.895392</td>\n",
       "      <td>33.044682</td>\n",
       "      <td>145.947348</td>\n",
       "      <td>37.356702</td>\n",
       "      <td>0.429223</td>\n",
       "      <td>22.164184</td>\n",
       "      <td>1</td>\n",
       "    </tr>\n",
       "  </tbody>\n",
       "</table>\n",
       "<p>4480 rows × 9 columns</p>\n",
       "</div>"
      ],
      "text/plain": [
       "             0           1          2          3           4          5  \\\n",
       "264   5.610661  135.476971  72.068656  34.423667   98.552872  33.945800   \n",
       "3074  7.405286  134.000882  89.513657  40.351542    8.511010  31.837886   \n",
       "922   3.967153  174.040156  73.094888  17.744529  161.313897  34.852556   \n",
       "4051  5.013859  112.837595  64.712864  23.754441   98.304899  28.290689   \n",
       "461   3.000000  177.473946  64.947892  12.446649  109.756814  31.857816   \n",
       "...        ...         ...        ...        ...         ...        ...   \n",
       "3054  2.363180  142.397918  61.452721  15.547279  306.760719  29.289541   \n",
       "1898  4.999076  112.003511  65.987803   0.000000    0.000000  37.800998   \n",
       "3511  1.000000    7.403395  74.411300  21.028249   21.817513  28.399209   \n",
       "2122  8.278573  111.158938  76.417859  39.278573  128.694704  28.686968   \n",
       "521   0.000000  174.074471  45.895392  33.044682  145.947348  37.356702   \n",
       "\n",
       "             6          7  8  \n",
       "264   0.744716  27.915991  1  \n",
       "3074  0.398863  39.567401  0  \n",
       "922   0.379179  33.291973  1  \n",
       "4051  0.399243  28.712864  0  \n",
       "461   0.485308  32.960297  1  \n",
       "...        ...        ... ..  \n",
       "3054  0.466304  23.681590  0  \n",
       "1898  0.261002  40.997228  1  \n",
       "3511  0.314835  21.359887  0  \n",
       "2122  0.632200  32.880365  1  \n",
       "521   0.429223  22.164184  1  \n",
       "\n",
       "[4480 rows x 9 columns]"
      ]
     },
     "execution_count": 13,
     "metadata": {},
     "output_type": "execute_result"
    }
   ],
   "source": [
    "df_gen_temp"
   ]
  },
  {
   "cell_type": "code",
   "execution_count": 14,
   "id": "9c8ca3f7",
   "metadata": {},
   "outputs": [],
   "source": [
    "df_gen_temp2 = df_gen_temp.drop(columns=[8])"
   ]
  },
  {
   "cell_type": "code",
   "execution_count": 15,
   "id": "697ec0de",
   "metadata": {},
   "outputs": [],
   "source": [
    "noise = np.random.normal(0, 0.5, [df_gen_temp2.shape[0],df_gen_temp2.shape[1]])"
   ]
  },
  {
   "cell_type": "code",
   "execution_count": 16,
   "id": "ff388003",
   "metadata": {},
   "outputs": [],
   "source": [
    "df_gen_temp3 = pd.DataFrame(noise+df_gen_temp2)"
   ]
  },
  {
   "cell_type": "code",
   "execution_count": 17,
   "id": "43be0ca3",
   "metadata": {},
   "outputs": [],
   "source": [
    "df_gen_temp3[8] = df_gen_temp[8]"
   ]
  },
  {
   "cell_type": "code",
   "execution_count": 18,
   "id": "9d64e5ae",
   "metadata": {},
   "outputs": [],
   "source": [
    "df_gen = df_gen_temp3.copy()"
   ]
  },
  {
   "cell_type": "code",
   "execution_count": 19,
   "id": "1dfcb4b9",
   "metadata": {},
   "outputs": [
    {
     "data": {
      "text/html": [
       "<div>\n",
       "<style scoped>\n",
       "    .dataframe tbody tr th:only-of-type {\n",
       "        vertical-align: middle;\n",
       "    }\n",
       "\n",
       "    .dataframe tbody tr th {\n",
       "        vertical-align: top;\n",
       "    }\n",
       "\n",
       "    .dataframe thead th {\n",
       "        text-align: right;\n",
       "    }\n",
       "</style>\n",
       "<table border=\"1\" class=\"dataframe\">\n",
       "  <thead>\n",
       "    <tr style=\"text-align: right;\">\n",
       "      <th></th>\n",
       "      <th>0</th>\n",
       "      <th>1</th>\n",
       "      <th>2</th>\n",
       "      <th>3</th>\n",
       "      <th>4</th>\n",
       "      <th>5</th>\n",
       "      <th>6</th>\n",
       "      <th>7</th>\n",
       "      <th>8</th>\n",
       "    </tr>\n",
       "  </thead>\n",
       "  <tbody>\n",
       "    <tr>\n",
       "      <th>264</th>\n",
       "      <td>5.910538</td>\n",
       "      <td>134.942837</td>\n",
       "      <td>71.830593</td>\n",
       "      <td>34.970997</td>\n",
       "      <td>98.252637</td>\n",
       "      <td>32.940072</td>\n",
       "      <td>0.952834</td>\n",
       "      <td>28.335324</td>\n",
       "      <td>1</td>\n",
       "    </tr>\n",
       "    <tr>\n",
       "      <th>3074</th>\n",
       "      <td>7.469624</td>\n",
       "      <td>133.758304</td>\n",
       "      <td>89.222576</td>\n",
       "      <td>40.198932</td>\n",
       "      <td>8.177660</td>\n",
       "      <td>32.670781</td>\n",
       "      <td>0.274131</td>\n",
       "      <td>39.110304</td>\n",
       "      <td>0</td>\n",
       "    </tr>\n",
       "    <tr>\n",
       "      <th>922</th>\n",
       "      <td>3.380155</td>\n",
       "      <td>174.887354</td>\n",
       "      <td>73.503107</td>\n",
       "      <td>17.371384</td>\n",
       "      <td>160.999024</td>\n",
       "      <td>35.413082</td>\n",
       "      <td>0.363932</td>\n",
       "      <td>33.855738</td>\n",
       "      <td>1</td>\n",
       "    </tr>\n",
       "    <tr>\n",
       "      <th>4051</th>\n",
       "      <td>5.249831</td>\n",
       "      <td>112.585165</td>\n",
       "      <td>65.078839</td>\n",
       "      <td>24.886263</td>\n",
       "      <td>98.520546</td>\n",
       "      <td>28.907760</td>\n",
       "      <td>0.183904</td>\n",
       "      <td>28.348033</td>\n",
       "      <td>0</td>\n",
       "    </tr>\n",
       "    <tr>\n",
       "      <th>461</th>\n",
       "      <td>3.056101</td>\n",
       "      <td>176.485159</td>\n",
       "      <td>65.334986</td>\n",
       "      <td>13.298831</td>\n",
       "      <td>109.580981</td>\n",
       "      <td>32.325408</td>\n",
       "      <td>-0.164004</td>\n",
       "      <td>33.456831</td>\n",
       "      <td>1</td>\n",
       "    </tr>\n",
       "  </tbody>\n",
       "</table>\n",
       "</div>"
      ],
      "text/plain": [
       "             0           1          2          3           4          5  \\\n",
       "264   5.910538  134.942837  71.830593  34.970997   98.252637  32.940072   \n",
       "3074  7.469624  133.758304  89.222576  40.198932    8.177660  32.670781   \n",
       "922   3.380155  174.887354  73.503107  17.371384  160.999024  35.413082   \n",
       "4051  5.249831  112.585165  65.078839  24.886263   98.520546  28.907760   \n",
       "461   3.056101  176.485159  65.334986  13.298831  109.580981  32.325408   \n",
       "\n",
       "             6          7  8  \n",
       "264   0.952834  28.335324  1  \n",
       "3074  0.274131  39.110304  0  \n",
       "922   0.363932  33.855738  1  \n",
       "4051  0.183904  28.348033  0  \n",
       "461  -0.164004  33.456831  1  "
      ]
     },
     "execution_count": 19,
     "metadata": {},
     "output_type": "execute_result"
    }
   ],
   "source": [
    "df_gen.head()"
   ]
  },
  {
   "cell_type": "code",
   "execution_count": 20,
   "id": "c80e7f24",
   "metadata": {},
   "outputs": [
    {
     "data": {
      "image/png": "[encoded data removed]",
      "text/plain": [
       "<Figure size 576x432 with 1 Axes>"
      ]
     },
     "metadata": {
      "needs_background": "light"
     },
     "output_type": "display_data"
    },
    {
     "data": {
      "image/png": "[encoded data removed]",
      "text/plain": [
       "<Figure size 576x432 with 1 Axes>"
      ]
     },
     "metadata": {
      "needs_background": "light"
     },
     "output_type": "display_data"
    },
    {
     "data": {
      "image/png": "[encoded data removed]",
      "text/plain": [
       "<Figure size 576x432 with 1 Axes>"
      ]
     },
     "metadata": {
      "needs_background": "light"
     },
     "output_type": "display_data"
    },
    {
     "data": {
      "image/png": "[encoded data removed]",
      "text/plain": [
       "<Figure size 576x432 with 1 Axes>"
      ]
     },
     "metadata": {
      "needs_background": "light"
     },
     "output_type": "display_data"
    },
    {
     "data": {
      "image/png": "[encoded data removed]",
      "text/plain": [
       "<Figure size 576x432 with 1 Axes>"
      ]
     },
     "metadata": {
      "needs_background": "light"
     },
     "output_type": "display_data"
    },
    {
     "data": {
      "image/png": "[encoded data removed]",
      "text/plain": [
       "<Figure size 576x432 with 1 Axes>"
      ]
     },
     "metadata": {
      "needs_background": "light"
     },
     "output_type": "display_data"
    },
    {
     "data": {
      "image/png": "[encoded data removed]",
      "text/plain": [
       "<Figure size 576x432 with 1 Axes>"
      ]
     },
     "metadata": {
      "needs_background": "light"
     },
     "output_type": "display_data"
    },
    {
     "data": {
      "image/png": "[encoded data removed]",
      "text/plain": [
       "<Figure size 576x432 with 1 Axes>"
      ]
     },
     "metadata": {
      "needs_background": "light"
     },
     "output_type": "display_data"
    },
    {
     "data": {
      "image/png": "[encoded data removed]",
      "text/plain": [
       "<Figure size 576x432 with 1 Axes>"
      ]
     },
     "metadata": {
      "needs_background": "light"
     },
     "output_type": "display_data"
    }
   ],
   "source": [
    "# for i in list(df_gen):\n",
    "#     df_gen.hist(column=[i],bins=300, figsize=(8,6))"
   ]
  },
  {
   "cell_type": "markdown",
   "id": "821f32f0",
   "metadata": {},
   "source": [
    "# Model (Neural Network)"
   ]
  },
  {
   "cell_type": "code",
   "execution_count": 48,
   "id": "a4e2e446",
   "metadata": {},
   "outputs": [],
   "source": [
    "clf = MLPClassifier(solver='lbfgs', alpha=1e-3, hidden_layer_sizes=(100, 10), random_state=1)"
   ]
  },
  {
   "cell_type": "code",
   "execution_count": 49,
   "id": "288eb95f",
   "metadata": {},
   "outputs": [
    {
     "name": "stderr",
     "output_type": "stream",
     "text": [
      "C:\\Users\\91979\\anaconda3\\lib\\site-packages\\sklearn\\neural_network\\_multilayer_perceptron.py:536: ConvergenceWarning: lbfgs failed to converge (status=1):\n",
      "STOP: TOTAL NO. of ITERATIONS REACHED LIMIT.\n",
      "\n",
      "Increase the number of iterations (max_iter) or scale the data as shown in:\n",
      "    https://scikit-learn.org/stable/modules/preprocessing.html\n",
      "  self.n_iter_ = _check_optimize_result(\"lbfgs\", opt_res, self.max_iter)\n"
     ]
    },
    {
     "data": {
      "text/html": [
       "<style>#sk-container-id-3 {color: black;background-color: white;}#sk-container-id-3 pre{padding: 0;}#sk-container-id-3 div.sk-toggleable {background-color: white;}#sk-container-id-3 label.sk-toggleable__label {cursor: pointer;display: block;width: 100%;margin-bottom: 0;padding: 0.3em;box-sizing: border-box;text-align: center;}#sk-container-id-3 label.sk-toggleable__label-arrow:before {content: \"▸\";float: left;margin-right: 0.25em;color: #696969;}#sk-container-id-3 label.sk-toggleable__label-arrow:hover:before {color: black;}#sk-container-id-3 div.sk-estimator:hover label.sk-toggleable__label-arrow:before {color: black;}#sk-container-id-3 div.sk-toggleable__content {max-height: 0;max-width: 0;overflow: hidden;text-align: left;background-color: #f0f8ff;}#sk-container-id-3 div.sk-toggleable__content pre {margin: 0.2em;color: black;border-radius: 0.25em;background-color: #f0f8ff;}#sk-container-id-3 input.sk-toggleable__control:checked~div.sk-toggleable__content {max-height: 200px;max-width: 100%;overflow: auto;}#sk-container-id-3 input.sk-toggleable__control:checked~label.sk-toggleable__label-arrow:before {content: \"▾\";}#sk-container-id-3 div.sk-estimator input.sk-toggleable__control:checked~label.sk-toggleable__label {background-color: #d4ebff;}#sk-container-id-3 div.sk-label input.sk-toggleable__control:checked~label.sk-toggleable__label {background-color: #d4ebff;}#sk-container-id-3 input.sk-hidden--visually {border: 0;clip: rect(1px 1px 1px 1px);clip: rect(1px, 1px, 1px, 1px);height: 1px;margin: -1px;overflow: hidden;padding: 0;position: absolute;width: 1px;}#sk-container-id-3 div.sk-estimator {font-family: monospace;background-color: #f0f8ff;border: 1px dotted black;border-radius: 0.25em;box-sizing: border-box;margin-bottom: 0.5em;}#sk-container-id-3 div.sk-estimator:hover {background-color: #d4ebff;}#sk-container-id-3 div.sk-parallel-item::after {content: \"\";width: 100%;border-bottom: 1px solid gray;flex-grow: 1;}#sk-container-id-3 div.sk-label:hover label.sk-toggleable__label {background-color: #d4ebff;}#sk-container-id-3 div.sk-serial::before {content: \"\";position: absolute;border-left: 1px solid gray;box-sizing: border-box;top: 0;bottom: 0;left: 50%;z-index: 0;}#sk-container-id-3 div.sk-serial {display: flex;flex-direction: column;align-items: center;background-color: white;padding-right: 0.2em;padding-left: 0.2em;position: relative;}#sk-container-id-3 div.sk-item {position: relative;z-index: 1;}#sk-container-id-3 div.sk-parallel {display: flex;align-items: stretch;justify-content: center;background-color: white;position: relative;}#sk-container-id-3 div.sk-item::before, #sk-container-id-3 div.sk-parallel-item::before {content: \"\";position: absolute;border-left: 1px solid gray;box-sizing: border-box;top: 0;bottom: 0;left: 50%;z-index: -1;}#sk-container-id-3 div.sk-parallel-item {display: flex;flex-direction: column;z-index: 1;position: relative;background-color: white;}#sk-container-id-3 div.sk-parallel-item:first-child::after {align-self: flex-end;width: 50%;}#sk-container-id-3 div.sk-parallel-item:last-child::after {align-self: flex-start;width: 50%;}#sk-container-id-3 div.sk-parallel-item:only-child::after {width: 0;}#sk-container-id-3 div.sk-dashed-wrapped {border: 1px dashed gray;margin: 0 0.4em 0.5em 0.4em;box-sizing: border-box;padding-bottom: 0.4em;background-color: white;}#sk-container-id-3 div.sk-label label {font-family: monospace;font-weight: bold;display: inline-block;line-height: 1.2em;}#sk-container-id-3 div.sk-label-container {text-align: center;}#sk-container-id-3 div.sk-container {/* jupyter's `normalize.less` sets `[hidden] { display: none; }` but bootstrap.min.css set `[hidden] { display: none !important; }` so we also need the `!important` here to be able to override the default hidden behavior on the sphinx rendered scikit-learn.org. See: https://github.com/scikit-learn/scikit-learn/issues/21755 */display: inline-block !important;position: relative;}#sk-container-id-3 div.sk-text-repr-fallback {display: none;}</style><div id=\"sk-container-id-3\" class=\"sk-top-container\"><div class=\"sk-text-repr-fallback\"><pre>MLPClassifier(alpha=0.001, hidden_layer_sizes=(100, 10), random_state=1,\n",
       "              solver=&#x27;lbfgs&#x27;)</pre><b>In a Jupyter environment, please rerun this cell to show the HTML representation or trust the notebook. <br />On GitHub, the HTML representation is unable to render, please try loading this page with nbviewer.org.</b></div><div class=\"sk-container\" hidden><div class=\"sk-item\"><div class=\"sk-estimator sk-toggleable\"><input class=\"sk-toggleable__control sk-hidden--visually\" id=\"sk-estimator-id-3\" type=\"checkbox\" checked><label for=\"sk-estimator-id-3\" class=\"sk-toggleable__label sk-toggleable__label-arrow\">MLPClassifier</label><div class=\"sk-toggleable__content\"><pre>MLPClassifier(alpha=0.001, hidden_layer_sizes=(100, 10), random_state=1,\n",
       "              solver=&#x27;lbfgs&#x27;)</pre></div></div></div></div></div>"
      ],
      "text/plain": [
       "MLPClassifier(alpha=0.001, hidden_layer_sizes=(100, 10), random_state=1,\n",
       "              solver='lbfgs')"
      ]
     },
     "execution_count": 49,
     "metadata": {},
     "output_type": "execute_result"
    }
   ],
   "source": [
    "clf.fit(df_gen.drop(columns=[8]),df_gen[8])"
   ]
  },
  {
   "cell_type": "code",
   "execution_count": 50,
   "id": "699e81d9",
   "metadata": {},
   "outputs": [
    {
     "name": "stderr",
     "output_type": "stream",
     "text": [
      "C:\\Users\\91979\\anaconda3\\lib\\site-packages\\sklearn\\base.py:402: UserWarning: X has feature names, but MLPClassifier was fitted without feature names\n",
      "  warnings.warn(\n"
     ]
    }
   ],
   "source": [
    "y_pred = clf.predict(data.drop(columns=['Outcome']))"
   ]
  },
  {
   "cell_type": "code",
   "execution_count": 51,
   "id": "07b2b29e",
   "metadata": {},
   "outputs": [
    {
     "name": "stdout",
     "output_type": "stream",
     "text": [
      "[[161  52]\n",
      " [ 18  76]]\n"
     ]
    }
   ],
   "source": [
    "m = confusion_matrix(data['Outcome'], y_pred)\n",
    "print(m)"
   ]
  },
  {
   "cell_type": "code",
   "execution_count": 52,
   "id": "153db65a",
   "metadata": {},
   "outputs": [
    {
     "name": "stdout",
     "output_type": "stream",
     "text": [
      "precision = 0.755868544600939\n",
      "recall =  0.8994413407821229\n"
     ]
    }
   ],
   "source": [
    "print('precision =',m[0][0]/(m[0][0]+m[0][1]))\n",
    "print('recall = ',m[0][0]/(m[0][0]+m[1][0]))"
   ]
  },
  {
   "cell_type": "markdown",
   "id": "33d5f7fb",
   "metadata": {},
   "source": [
    "# XGBoost"
   ]
  },
  {
   "cell_type": "code",
   "execution_count": 71,
   "id": "358e8a96",
   "metadata": {},
   "outputs": [],
   "source": [
    "estimators = []\n",
    "model_1 = XGBClassifier(n_estimators=1000,\n",
    "                      learning_rate=0.05,\n",
    "                      objective='binary:logistic',\n",
    "                      subsample=0.5,         \n",
    "                      colsample_bytree=0.5,  \n",
    "                      scale_pos_weight=1,\n",
    "                      random_state=38)\n",
    "estimators.append(('xgb', model_1))\n",
    "\n",
    "model_2 = LGBMClassifier(n_estimators=130,\n",
    "                       \n",
    "                       learning_rate=0.05, \n",
    "                       objective='binary',\n",
    "                       subsample=0.5,         \n",
    "                       colsample_bytree=0.5, \n",
    "                       scale_pos_weight=2.47,\n",
    "                       random_state=123)\n",
    "estimators.append(('lgb', model_2))\n",
    "\n",
    "model = VotingClassifier(estimators, voting='soft')"
   ]
  },
  {
   "cell_type": "code",
   "execution_count": 72,
   "id": "dad882de",
   "metadata": {},
   "outputs": [],
   "source": [
    "model_f = model.fit(df_gen.drop(columns=[8]),df_gen[8])"
   ]
  },
  {
   "cell_type": "code",
   "execution_count": 29,
   "id": "5a38d980",
   "metadata": {},
   "outputs": [],
   "source": [
    "# filename = 'model_1.sav'\n",
    "# pickle.dump(model_1, open(filename, 'wb'))"
   ]
  },
  {
   "cell_type": "code",
   "execution_count": 73,
   "id": "10ae26fc",
   "metadata": {},
   "outputs": [
    {
     "name": "stdout",
     "output_type": "stream",
     "text": [
      "[[193  20]\n",
      " [  1  93]]\n"
     ]
    }
   ],
   "source": [
    "y_pred1 = model_f.predict(pd.DataFrame(data.drop(columns=['Outcome']).to_numpy()))\n",
    "\n",
    "m1 = confusion_matrix(data['Outcome'], y_pred1)\n",
    "print(m1)"
   ]
  },
  {
   "cell_type": "code",
   "execution_count": 74,
   "id": "2f3a3ecd",
   "metadata": {},
   "outputs": [
    {
     "name": "stdout",
     "output_type": "stream",
     "text": [
      "precision = 0.9061032863849765\n",
      "recall =  0.9948453608247423\n"
     ]
    }
   ],
   "source": [
    "print('precision =',m1[0][0]/(m1[0][0]+m1[0][1]))\n",
    "print('recall = ',m1[0][0]/(m1[0][0]+m1[1][0]))"
   ]
  },
  {
   "cell_type": "markdown",
   "id": "29909575",
   "metadata": {},
   "source": [
    "# Submission"
   ]
  },
  {
   "cell_type": "code",
   "execution_count": 78,
   "id": "caf9841f",
   "metadata": {},
   "outputs": [],
   "source": [
    "x = pd.read_csv('PS1B_test.csv')\n",
    "x.drop(columns=['Index'], inplace = True)"
   ]
  },
  {
   "cell_type": "code",
   "execution_count": 79,
   "id": "1dff8849",
   "metadata": {},
   "outputs": [],
   "source": [
    "y_pred1 = model_f.predict(pd.DataFrame(x.to_numpy()))"
   ]
  },
  {
   "cell_type": "code",
   "execution_count": 80,
   "id": "675421c7",
   "metadata": {},
   "outputs": [],
   "source": [
    "index = [i for i in range(1,len(y_pred1)+1)]"
   ]
  },
  {
   "cell_type": "code",
   "execution_count": 81,
   "id": "8a4e63db",
   "metadata": {},
   "outputs": [],
   "source": [
    "df = pd.DataFrame({'Index': index, 'Target': y_pred1})"
   ]
  },
  {
   "cell_type": "code",
   "execution_count": 82,
   "id": "3b9346f8",
   "metadata": {},
   "outputs": [],
   "source": [
    "df.to_csv(\"sub_B_5.csv\",index=False)"
   ]
  },
  {
   "cell_type": "code",
   "execution_count": null,
   "id": "f9e347c4",
   "metadata": {},
   "outputs": [],
   "source": []
  }
 ],
 "metadata": {
  "kernelspec": {
   "display_name": "Python 3",
   "language": "python",
   "name": "python3"
  },
  "language_info": {
   "codemirror_mode": {
    "name": "ipython",
    "version": 3
   },
   "file_extension": ".py",
   "mimetype": "text/x-python",
   "name": "python",
   "nbconvert_exporter": "python",
   "pygments_lexer": "ipython3",
   "version": "3.8.8"
  }
 },
 "nbformat": 4,
 "nbformat_minor": 5
}
